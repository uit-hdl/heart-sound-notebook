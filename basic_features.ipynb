{
 "cells": [
  {
   "metadata": {
    "ExecuteTime": {
     "end_time": "2025-09-26T12:41:08.352974Z",
     "start_time": "2025-09-26T12:41:08.349418Z"
    }
   },
   "cell_type": "code",
   "source": [
    "import matplotlib.pyplot as plt\n",
    "import numpy as np\n",
    "from IPython.display import Image, display, Markdown\n",
    "from scipy.signal import hilbert\n",
    "import librosa.display\n",
    "import librosa.feature\n",
    "import IPython.display as ipd\n",
    "from scipy.signal import butter, filtfilt\n",
    "from ipywidgets import interact, Label\n",
    "import os\n",
    "\n",
    "# We make sure we are in the right directory\n",
    "path = %pwd\n",
    "if (os.path.basename(path) != \"heart-sound-notebook\"):\n",
    "    %cd heart-sound-notebook"
   ],
   "outputs": [],
   "execution_count": 10
  },
  {
   "cell_type": "markdown",
   "metadata": {
    "ExecuteTime": {
     "end_time": "2025-09-16T13:27:24.942602Z",
     "start_time": "2025-09-16T13:27:24.938987Z"
    }
   },
   "source": [
    "# Basic audio features\n",
    "\n",
    "- Code inspired from: https://github.com/musikalkemist/AudioSignalProcessingForML\n",
    "- Accompanying videos: https://www.youtube.com/watch?v=iCwMQJnKk2c&list=PL-wATfeyAMNqIee7cH3q1bh4QJFAaeNv0&ab_channel=ValerioVelardo-TheSoundofAI\n",
    "- The audio files are high-quality textbook examples heart sounds from [Michigan University](https://deepblue.lib.umich.edu/handle/2027.42/120554) (fortunately rescued by deepblue!)."
   ]
  },
  {
   "cell_type": "markdown",
   "metadata": {},
   "source": [
    "## Loading audio files"
   ]
  },
  {
   "cell_type": "markdown",
   "metadata": {},
   "source": [
    "We start by loading some heart sounds:"
   ]
  },
  {
   "cell_type": "code",
   "metadata": {
    "ExecuteTime": {
     "end_time": "2025-09-26T12:41:12.054694Z",
     "start_time": "2025-09-26T12:41:11.845603Z"
    }
   },
   "source": [
    "# load audio files with librosa\n",
    "\n",
    "DURATION = 2.0 # seconds\n",
    "\n",
    "def load_audio(filename, offset=0, duration=DURATION, normalize=True):\n",
    "    y, sampling_rate = librosa.load(filename, offset=offset, duration=duration)\n",
    "    if normalize:\n",
    "        y = librosa.util.normalize(y)\n",
    "    return y, sampling_rate\n",
    "\n",
    "# Audio file name, offset, label, schematic name\n",
    "# The offset is chose so that the first sound is a S1 (or S4).\n",
    "input_matrix = [[\"assets/heart_sounds/01_apex_normal_s1_s2_supine_bell.mp3\", 1.0, \"Normal S1 S2\", \"assets/figures/aortic-normal_s1_s2.png\"],\n",
    "          [\"assets/heart_sounds/19_pulm_spilt_s2_persistent_supine_diaph.mp3\", 1.5, \"Split S2\", \"assets/figures/pulmonic-ejection_systolic_murmur_with_transient_splitting_s2.png\"],\n",
    "          [\"assets/heart_sounds/05_apex_s3_lld_bell.mp3\", 1.1, \"S3\", \"assets/figures/s3_gallop.png\"],\n",
    "          [\"assets/heart_sounds/03_apex_s4_lld_bell.mp3\", 1.0, \"S4\", \"assets/figures/s4_gallop.png\"],\n",
    "          [\"assets/heart_sounds/04_apex_mid_sys_click_supine_bell.mp3\", 1.2, \"Mid systolic click\", \"assets/figures/mid-systolic-click_mitral_valve_prolapse.png\"],\n",
    "          [\"assets/heart_sounds/07_apex_mid_sys_mur_supine_bell.mp3\", 1.2, \"Mid systolic murmur\", \"assets/figures/mid-systolic-murmur.png\"],\n",
    "          [\"assets/heart_sounds/10_apex_sys_click__late_sys_mur_lld_bell.mp3\", 1.1, \"Systolic click with late systolic murmur\", \"assets/figures/systolic_click_with_late_systolic_murmur.png\"],\n",
    "          ]\n",
    "\n",
    "# Convenience method for getting the label given a sample number\n",
    "def label(sample):\n",
    "    return input_matrix[sample][2]\n",
    "\n",
    "# Convenience object containing the list of (label, sample index)\n",
    "enum_list = [(row[2], idx) for (idx, row) in enumerate(input_matrix)]\n",
    "    \n",
    "# Audio data, sampling rate\n",
    "orig_data = [load_audio(file, offset) for (file, offset, _, _) in input_matrix]"
   ],
   "outputs": [],
   "execution_count": 11
  },
  {
   "cell_type": "code",
   "metadata": {
    "ExecuteTime": {
     "end_time": "2025-09-26T12:41:13.014215Z",
     "start_time": "2025-09-26T12:41:13.011175Z"
    }
   },
   "source": [
    "# Duration of the first audio file\n",
    "\n",
    "audio_0 = orig_data[0]\n",
    "sr = audio_0[1]\n",
    "print(f\"Original sampling rate: {sr} Hz\")\n",
    "tot_samples = len(audio_0[0])\n",
    "duration = 1 / sr * tot_samples\n",
    "print(f\"The audio lasts for {duration} seconds\")"
   ],
   "outputs": [
    {
     "name": "stdout",
     "output_type": "stream",
     "text": [
      "Original sampling rate: 22050 Hz\n",
      "The audio lasts for 2.0 seconds\n"
     ]
    }
   ],
   "execution_count": 12
  },
  {
   "cell_type": "markdown",
   "metadata": {},
   "source": [
    "Each heart sound has specific features characteristic of a condition (or lack of):"
   ]
  },
  {
   "cell_type": "code",
   "metadata": {
    "ExecuteTime": {
     "end_time": "2025-09-26T12:41:14.404621Z",
     "start_time": "2025-09-26T12:41:14.388984Z"
    }
   },
   "source": [
    "def display_schematic_and_audio(sample):\n",
    "    display(Image(input_matrix[sample][3]))\n",
    "    display(ipd.Audio(data=orig_data[sample][0], rate=orig_data[sample][1]))\n",
    "\n",
    "interact(display_schematic_and_audio, sample=enum_list);"
   ],
   "outputs": [
    {
     "data": {
      "text/plain": [
       "interactive(children=(Dropdown(description='sample', options=(('Normal S1 S2', 0), ('Split S2', 1), ('S3', 2),…"
      ],
      "application/vnd.jupyter.widget-view+json": {
       "version_major": 2,
       "version_minor": 0,
       "model_id": "a6a6762e148f420ca3a48125e7ebe1ec"
      }
     },
     "metadata": {},
     "output_type": "display_data",
     "jetTransient": {
      "display_id": null
     }
    }
   ],
   "execution_count": 13
  },
  {
   "cell_type": "markdown",
   "metadata": {},
   "source": [
    "## Resampling"
   ]
  },
  {
   "cell_type": "markdown",
   "metadata": {},
   "source": [
    "Heart sounds have frequencies covering 15-1kHz range.\n",
    "Resampling will lower the dimension of the data and facilitate the training of the model.\n",
    "\n",
    "Choosing a Nyquist frequency of 1024 Hz, we resample with twice this frequency. Note that an antialiasing filter is automatically applied."
   ]
  },
  {
   "cell_type": "code",
   "metadata": {},
   "source": [
    "SR = 2048\n",
    "\n",
    "def resample_all(orig_data_with_sr, target_sr=SR):\n",
    "    return [librosa.resample(data, orig_sr=orig_sr, target_sr=target_sr, res_type=\"soxr_vhq\")  for (data, orig_sr) in orig_data_with_sr]\n",
    "\n",
    "data = resample_all(orig_data)"
   ],
   "outputs": [],
   "execution_count": null
  },
  {
   "cell_type": "markdown",
   "metadata": {},
   "source": [
    "We listen to the resampled audio files just to make sure that we did not introduce any aliasing:"
   ]
  },
  {
   "cell_type": "code",
   "metadata": {},
   "source": [
    "# Web browsers won't play audio with a rate under 3kHz.\n",
    "# Just for the sake of playing the downsampled files, we upsample to the minimum allowed sr.\n",
    "\n",
    "DUMMY_SR = 3000\n",
    "\n",
    "dummy_data = resample_all(orig_data, DUMMY_SR)\n",
    "\n",
    "def display_schematic_and_audio(sample):\n",
    "    orig_sr = orig_data[sample][1]\n",
    "    display(Label(f\"Original sampling rate ({orig_sr} Hz):\"))\n",
    "    display(ipd.Audio(data=orig_data[sample][0], rate=orig_sr))\n",
    "    display(Label(\"Down-sampled:\"))\n",
    "    display(ipd.Audio(data=dummy_data[sample], rate=DUMMY_SR))\n",
    "    \n",
    "interact(display_schematic_and_audio, sample=enum_list);"
   ],
   "outputs": [],
   "execution_count": null
  },
  {
   "cell_type": "markdown",
   "metadata": {},
   "source": [
    "We can also look at the waveform to check that we are not loosing any important details:"
   ]
  },
  {
   "cell_type": "code",
   "metadata": {},
   "source": [
    "def plot_original_and_downsampled(signal, signal_resampled, start_ratio=0, end_ratio=1):\n",
    "    plt.figure(figsize=(14, 8))\n",
    "\n",
    "    plt.subplot(2, 1, 1)\n",
    "    librosa.display.waveshow(signal[int(len(signal)*start_ratio):int(len(signal)*end_ratio)], sr=sr, alpha=0.5, marker=\".\")\n",
    "    plt.title(\"22kHz\")\n",
    "\n",
    "    plt.subplot(2, 1, 2)\n",
    "    librosa.display.waveshow(signal_resampled[int(len(signal_resampled)*start_ratio):int(len(signal_resampled)*end_ratio)], sr=SR, alpha=0.5, marker=\".\")\n",
    "    plt.title(\"2kHz\")\n",
    "\n",
    "    plt.suptitle(\"Waveform (original and downsampled)\")\n",
    "    plt.show()\n",
    "\n",
    "plot_original_and_downsampled(orig_data[0][0], data[0], 0.02, 0.12)"
   ],
   "outputs": [],
   "execution_count": null
  },
  {
   "cell_type": "markdown",
   "metadata": {},
   "source": [
    "## Waveform\n",
    "\n",
    "Let us look at the waveform of some common heart sounds:"
   ]
  },
  {
   "cell_type": "code",
   "metadata": {},
   "source": [
    "def plot_waveform(signal, title, start_ratio=0, end_ratio=1):\n",
    "    plt.figure(figsize=(15, 5))\n",
    "    librosa.display.waveshow(signal[int(len(signal)*start_ratio):int(len(signal)*end_ratio)], sr=SR, alpha=0.5, marker=\".\")\n",
    "    plt.title(title)\n",
    "    plt.show()\n",
    "\n",
    "def display_schematic_and_audio(sample):\n",
    "    plot_waveform(data[sample], label(sample), 0, 0.4)\n",
    "    \n",
    "interact(display_schematic_and_audio, sample=enum_list);"
   ],
   "outputs": [],
   "execution_count": null
  },
  {
   "cell_type": "markdown",
   "metadata": {},
   "source": [
    "### Observations\n",
    "\n",
    "- Durations:\n",
    "  - S1 and S2: ~80ms\n",
    "  - S3 and S4: ~150ms\n",
    "  - Clicks: ~50ms\n",
    "  - P2-A2 (first and second sounds of split S2): ~60ms\n",
    "- Pitch:\n",
    "  - S1 and S2: about 60 Hz\n",
    "  - S2 and S3: lower than S1 and S2\n",
    "  - Clicks: higher than S1 and S2. Messy.\n",
    "- Amplitude:\n",
    "  - S1 and S2: large. S1 > S2 in some cases.\n",
    "  - S2 and S3: medium\n",
    "  - Clicks: low\n",
    "\n",
    "Based on these observations, we should aim to have a temporal resolution < 25ms (half of the smallest feature duration)."
   ]
  },
  {
   "cell_type": "markdown",
   "metadata": {},
   "source": [
    "## Time domain"
   ]
  },
  {
   "cell_type": "markdown",
   "metadata": {},
   "source": [
    "We start by defining the properties of the sliding window:"
   ]
  },
  {
   "cell_type": "code",
   "metadata": {},
   "source": [
    "# Attention: when used as n_fft in stft, FRAME_SIZE must be a power of 2\n",
    "FRAME_SIZE = 2**6  # 64 samples. Corresponds to ~32ms at 2kHz\n",
    "HOP_LENGTH = 2**4  # 16 samples. Corresponds to ~16ms at 2kHz"
   ],
   "outputs": [],
   "execution_count": null
  },
  {
   "cell_type": "markdown",
   "metadata": {},
   "source": [
    "To get the envelope, we compute the Hilbert transform to get the analytic form. From it we can extract the instantaneous amplitude (envelope). We could also get the instantaneous frequency.\n",
    "We apply a low-pass filter to smooth the envelope. Subsampling would probably also work fine."
   ]
  },
  {
   "cell_type": "code",
   "metadata": {},
   "source": [
    "# Compute smoothed envelope\n",
    "\n",
    "def smooth_envelope(signal, rate):\n",
    "    signal_analytic = hilbert(signal)\n",
    "    instantaneous_amplitude = np.abs(signal_analytic)\n",
    "\n",
    "    # Design a low-pass Butterworth filter\n",
    "    cutoff = 30  # cutoff frequency in Hz\n",
    "    order = 2    # filter order\n",
    "    b, a = butter(order, cutoff, btype='low', fs=rate)  # normalized frequency (Nyquist)\n",
    "\n",
    "    # zero-phase filtering\n",
    "    return filtfilt(b, a, instantaneous_amplitude)\n",
    "\n",
    "aef_normal = smooth_envelope(normal_resampled, SR)\n",
    "aef_s2_split = smooth_envelope(s2_split_resampled, SR)\n",
    "aef_s3 = smooth_envelope(s3_resampled, SR)\n",
    "aef_mid_syst_murmur = smooth_envelope(mid_syst_murmur_resampled, SR)\n",
    "\n",
    "# Time vector\n",
    "t_amp = np.linspace(0, DURATION, len(aef_normal))\n",
    "\n",
    "#def ifreq(analytic, rate):\n",
    "#  instantaneous_phase = np.unwrap(np.angle(analytic))\n",
    "#  return np.diff(instantaneous_phase) * rate / (2.0*np.pi)\n",
    "\n",
    "#ifreq_normal = ifreq(normal_analytic, SR)\n",
    "#ifreq_s2_split = ifreq(s2_split_analytic, SR)\n",
    "#ifreq_s3 = ifreq(s3_analytic, SR)\n",
    "#ifreq_mid_syst_murmur = ifreq(mid_syst_murmur_analytic, SR)\n",
    "\n",
    "# Time axis for freq (one sample shorter)\n",
    "#t_freq = t_amp[1:]"
   ],
   "outputs": [],
   "execution_count": null
  },
  {
   "cell_type": "markdown",
   "metadata": {},
   "source": [
    "We also compute the RMS energy:"
   ]
  },
  {
   "cell_type": "code",
   "metadata": {},
   "source": [
    "# Computing RMS energy\n",
    "\n",
    "rms_normal = librosa.feature.rms(y=normal_resampled, frame_length=FRAME_SIZE, hop_length=HOP_LENGTH)[0]\n",
    "rms_s2_split = librosa.feature.rms(y=s2_split_resampled, frame_length=FRAME_SIZE, hop_length=HOP_LENGTH)[0]\n",
    "rms_s3 = librosa.feature.rms(y=s3_resampled, frame_length=FRAME_SIZE, hop_length=HOP_LENGTH)[0]\n",
    "rms_mid_syst_murmur = librosa.feature.rms(y=mid_syst_murmur_resampled, frame_length=FRAME_SIZE, hop_length=HOP_LENGTH)[0]"
   ],
   "outputs": [],
   "execution_count": null
  },
  {
   "cell_type": "markdown",
   "metadata": {},
   "source": [
    "And Zero-crossing rate:"
   ]
  },
  {
   "cell_type": "code",
   "metadata": {},
   "source": [
    "# Computing ZCR\n",
    "\n",
    "zcr_normal = librosa.feature.zero_crossing_rate(y=normal_resampled, frame_length=FRAME_SIZE, hop_length=HOP_LENGTH)[0]\n",
    "zcr_s2_split = librosa.feature.zero_crossing_rate(y=s2_split_resampled, frame_length=FRAME_SIZE, hop_length=HOP_LENGTH)[0]\n",
    "zcr_s3 = librosa.feature.zero_crossing_rate(y=s3_resampled, frame_length=FRAME_SIZE, hop_length=HOP_LENGTH)[0]\n",
    "zcr_mid_syst_murmur = librosa.feature.zero_crossing_rate(y=mid_syst_murmur_resampled, frame_length=FRAME_SIZE, hop_length=HOP_LENGTH)[0]\n",
    "\n",
    "# Time vector\n",
    "frames = range(len(rms_normal))\n",
    "t = librosa.frames_to_time(frames, sr=SR, hop_length=HOP_LENGTH)"
   ],
   "outputs": [],
   "execution_count": null
  },
  {
   "cell_type": "code",
   "metadata": {},
   "source": [
    "plt.figure(figsize=(17, 10))\n",
    "\n",
    "plt.subplot(2, 2, 1)\n",
    "librosa.display.waveshow(normal_resampled, sr=SR, alpha=0.5)\n",
    "plt.plot(t_amp, aef_normal, color=\"r\")\n",
    "plt.plot(t, rms_normal, color=\"g\")\n",
    "plt.plot(t, zcr_normal, color=\"y\")\n",
    "plt.ylim((-1, 1))\n",
    "plt.title(\"Normal\")\n",
    "plt.legend([\"\", \"Waveform\", \"AE\", \"RMS energy\", \"ZCR\"])\n",
    "\n",
    "plt.subplot(2, 2, 2)\n",
    "librosa.display.waveshow(s2_split_resampled, sr=SR, alpha=0.5)\n",
    "plt.plot(t_amp, aef_s2_split, color=\"r\")\n",
    "plt.plot(t, rms_s2_split, color=\"g\")\n",
    "plt.plot(t, zcr_s2_split, color=\"y\")\n",
    "plt.ylim((-1, 1))\n",
    "plt.title(\"S2 split\")\n",
    "\n",
    "plt.subplot(2, 2, 3)\n",
    "librosa.display.waveshow(s3_resampled, sr=SR, alpha=0.5)\n",
    "plt.plot(t_amp, aef_s3, color=\"r\")\n",
    "plt.plot(t, rms_s3, color=\"g\")\n",
    "plt.plot(t, zcr_s3, color=\"y\")\n",
    "plt.ylim((-1, 1))\n",
    "plt.title(\"S3\")\n",
    "\n",
    "plt.subplot(2, 2, 4)\n",
    "librosa.display.waveshow(mid_syst_murmur_resampled, sr=SR, alpha=0.5)\n",
    "plt.plot(t_amp, aef_mid_syst_murmur, color=\"r\")\n",
    "plt.plot(t, rms_mid_syst_murmur, color=\"g\")\n",
    "plt.plot(t, zcr_mid_syst_murmur, color=\"y\")\n",
    "plt.ylim((-1, 1))\n",
    "plt.title(\"Mid systolic murmur\")\n",
    "\n",
    "plt.suptitle(\"Temporal features\")\n",
    "plt.show()"
   ],
   "outputs": [],
   "execution_count": null
  },
  {
   "cell_type": "markdown",
   "metadata": {},
   "source": [
    "## Frequency domain"
   ]
  },
  {
   "cell_type": "markdown",
   "metadata": {},
   "source": [
    "We use FFT to compute the amplitude spectrum.\n",
    "\n",
    "Note that FFT produces as many frequencies as input points (and that it is wise to use a power of 2)."
   ]
  },
  {
   "cell_type": "code",
   "metadata": {},
   "source": [
    "# f_ratio is the ratio of frequency we want to display.\n",
    "# Use 0.5 to stop at the Nyquist frequency.\n",
    "f_ratio = 0.5\n",
    "\n",
    "def amplitude_spectrum(signal):\n",
    "    fft = np.fft.fft(signal)\n",
    "    return np.abs(fft)\n",
    "\n",
    "fft_normal = amplitude_spectrum(normal_resampled)\n",
    "fft_s2_split = amplitude_spectrum(s2_split_resampled)\n",
    "fft_s3 = amplitude_spectrum(s3_resampled)\n",
    "fft_mid_syst_murmur = amplitude_spectrum(mid_syst_murmur_resampled)\n",
    "\n",
    "# Frequency vector\n",
    "frequencies = np.linspace(0, SR, len(fft_normal))\n",
    "\n",
    "# Index cutoff\n",
    "f_index_cutoff = int(len(fft_normal)*f_ratio)\n"
   ],
   "outputs": [],
   "execution_count": null
  },
  {
   "cell_type": "code",
   "metadata": {},
   "source": [
    "plt.figure(figsize=(17, 10))\n",
    "\n",
    "plt.subplot(2, 2, 1)\n",
    "plt.plot(frequencies[:f_index_cutoff], fft_normal[:f_index_cutoff])\n",
    "plt.xlabel('Frequency (Hz)')\n",
    "plt.title(\"Normal\")\n",
    "\n",
    "plt.subplot(2, 2, 2)\n",
    "plt.plot(frequencies[:f_index_cutoff], fft_s2_split[:f_index_cutoff])\n",
    "plt.xlabel('Frequency (Hz)')\n",
    "plt.title(\"S2 split\")\n",
    "\n",
    "plt.subplot(2, 2, 3)\n",
    "plt.plot(frequencies[:f_index_cutoff], fft_s3[:f_index_cutoff])\n",
    "plt.xlabel('Frequency (Hz)')\n",
    "plt.title(\"S3\")\n",
    "\n",
    "plt.subplot(2, 2, 4)\n",
    "plt.plot(frequencies[:f_index_cutoff], fft_mid_syst_murmur[:f_index_cutoff])\n",
    "plt.xlabel('Frequency (Hz)')\n",
    "plt.title(\"Mid systolic murmur\")\n",
    "\n",
    "plt.suptitle(\"Amplitude spectrum\")\n",
    "plt.show()"
   ],
   "outputs": [],
   "execution_count": null
  },
  {
   "cell_type": "markdown",
   "metadata": {},
   "source": [
    "We can also display the log-power spectrum:"
   ]
  },
  {
   "cell_type": "code",
   "metadata": {},
   "source": [
    "fft_logpower_normal = librosa.power_to_db(fft_normal ** 2)\n",
    "fft_logpower_s2_split = librosa.power_to_db(fft_s2_split ** 2)\n",
    "fft_logpower_s3 = librosa.power_to_db(fft_s3 ** 2)\n",
    "fft_logpower_mid_syst_murmur = librosa.power_to_db(fft_mid_syst_murmur **2)"
   ],
   "outputs": [],
   "execution_count": null
  },
  {
   "cell_type": "code",
   "metadata": {},
   "source": [
    "plt.figure(figsize=(17, 10))\n",
    "\n",
    "plt.subplot(2, 2, 1)\n",
    "plt.plot(frequencies[:f_index_cutoff], fft_logpower_normal[:f_index_cutoff])\n",
    "plt.xlabel('Frequency (Hz)')\n",
    "plt.ylabel('dB')\n",
    "plt.title(\"Normal\")\n",
    "\n",
    "plt.subplot(2, 2, 2)\n",
    "plt.plot(frequencies[:f_index_cutoff], fft_logpower_s2_split[:f_index_cutoff])\n",
    "plt.xlabel('Frequency (Hz)')\n",
    "plt.ylabel('dB')\n",
    "plt.title(\"S2 split\")\n",
    "\n",
    "plt.subplot(2, 2, 3)\n",
    "plt.plot(frequencies[:f_index_cutoff], fft_logpower_s3[:f_index_cutoff])\n",
    "plt.xlabel('Frequency (Hz)')\n",
    "plt.ylabel('dB')\n",
    "plt.title(\"S3\")\n",
    "\n",
    "plt.subplot(2, 2, 4)\n",
    "plt.plot(frequencies[:f_index_cutoff], fft_logpower_mid_syst_murmur[:f_index_cutoff])\n",
    "plt.xlabel('Frequency (Hz)')\n",
    "plt.ylabel('dB')\n",
    "plt.title(\"Mid systolic murmur\")\n",
    "\n",
    "plt.suptitle(\"Log-power spectrum\")\n",
    "plt.show()"
   ],
   "outputs": [],
   "execution_count": null
  },
  {
   "cell_type": "markdown",
   "metadata": {
    "ExecuteTime": {
     "end_time": "2025-09-22T12:49:08.700150Z",
     "start_time": "2025-09-22T12:49:08.695565Z"
    }
   },
   "source": [
    "## Time-frequency domain"
   ]
  },
  {
   "cell_type": "markdown",
   "metadata": {},
   "source": [
    "### Spectral centroid and bandwidth\n",
    "\n",
    "- Spectral centroid: centre of gravity of mass of the spectrum (mean frequency).\n",
    "- Spectral bandwidth: spread of a signal’s frequency content around its spectral centroid (equivalent of a standard deviation)."
   ]
  },
  {
   "cell_type": "code",
   "metadata": {},
   "source": [
    "FRAME_SIZE = 2**6\n",
    "HOP_LENGTH = 2**3"
   ],
   "outputs": [],
   "execution_count": null
  },
  {
   "cell_type": "code",
   "metadata": {},
   "source": [
    "sc_normal = librosa.feature.spectral_centroid(y=normal_resampled, sr=SR, n_fft=FRAME_SIZE, hop_length=HOP_LENGTH)[0]\n",
    "sc_s2_split = librosa.feature.spectral_centroid(y=s2_split_resampled, sr=SR, n_fft=FRAME_SIZE, hop_length=HOP_LENGTH)[0]\n",
    "sc_s3 = librosa.feature.spectral_centroid(y=s3_resampled, sr=SR, n_fft=FRAME_SIZE, hop_length=HOP_LENGTH)[0]\n",
    "sc_mid_syst_murmur = librosa.feature.spectral_centroid(y=mid_syst_murmur_resampled, sr=SR, n_fft=FRAME_SIZE, hop_length=HOP_LENGTH)[0]\n",
    "\n",
    "sb_normal = librosa.feature.spectral_bandwidth(y=normal_resampled, sr=SR, n_fft=FRAME_SIZE, hop_length=HOP_LENGTH)[0]\n",
    "sb_s2_split = librosa.feature.spectral_bandwidth(y=s2_split_resampled, sr=SR, n_fft=FRAME_SIZE, hop_length=HOP_LENGTH)[0]\n",
    "sb_s3 = librosa.feature.spectral_bandwidth(y=s3_resampled, sr=SR, n_fft=FRAME_SIZE, hop_length=HOP_LENGTH)[0]\n",
    "sb_mid_syst_murmur = librosa.feature.spectral_bandwidth(y=mid_syst_murmur_resampled, sr=SR, n_fft=FRAME_SIZE, hop_length=HOP_LENGTH)[0]"
   ],
   "outputs": [],
   "execution_count": null
  },
  {
   "cell_type": "code",
   "metadata": {},
   "source": [
    "frames = range(len(sc_normal))\n",
    "t = librosa.frames_to_time(frames, sr= SR, hop_length=HOP_LENGTH)"
   ],
   "outputs": [],
   "execution_count": null
  },
  {
   "cell_type": "code",
   "metadata": {},
   "source": [
    "plt.figure(figsize=(17, 10))\n",
    "\n",
    "plt.subplot(2, 2, 1)\n",
    "librosa.display.waveshow(normal * max(sc_normal) * 2, alpha=0.5)\n",
    "plt.plot(t, sc_normal, color=\"r\")\n",
    "plt.fill_between(t, sc_normal - sb_normal, sc_normal + sb_normal, color=\"orange\", alpha=0.2)\n",
    "plt.ylabel(\"Hz\")\n",
    "plt.ylim(0, None)\n",
    "plt.title(\"Normal\")\n",
    "\n",
    "plt.subplot(2, 2, 2)\n",
    "librosa.display.waveshow(s2_split * max(sc_s2_split) * 2, alpha=0.5)\n",
    "plt.plot(t, sc_s2_split, color=\"r\")\n",
    "plt.fill_between(t, sc_s2_split - sb_s2_split, sc_s2_split + sb_s2_split, color=\"orange\", alpha=0.2)\n",
    "plt.ylabel(\"Hz\")\n",
    "plt.ylim(0, None)\n",
    "plt.title(\"S2 split\")\n",
    "\n",
    "plt.subplot(2, 2, 3)\n",
    "librosa.display.waveshow(s3 * max(sc_s3) * 2, alpha=0.5)\n",
    "plt.plot(t, sc_s3, color=\"r\")\n",
    "plt.fill_between(t, sc_s3 - sb_s3, sc_s3 + sb_s3, color=\"orange\", alpha=0.2)\n",
    "plt.ylabel(\"Hz\")\n",
    "plt.ylim(0, None)\n",
    "plt.title(\"S3\")\n",
    "\n",
    "plt.subplot(2, 2, 4)\n",
    "librosa.display.waveshow(mid_syst_murmur * max(sc_mid_syst_murmur) * 2, alpha=0.5)\n",
    "plt.plot(t, sc_mid_syst_murmur, color=\"r\")\n",
    "plt.fill_between(t, sc_mid_syst_murmur - sb_mid_syst_murmur, sc_mid_syst_murmur + sb_mid_syst_murmur, color=\"orange\", alpha=0.2)\n",
    "plt.ylabel(\"Hz\")\n",
    "plt.ylim(0, None)\n",
    "plt.title(\"Mid systolic murmur\")\n",
    "\n",
    "plt.suptitle(\"Spectral centroid with spectral bandwidth intervals\")\n",
    "plt.show()"
   ],
   "outputs": [],
   "execution_count": null
  },
  {
   "cell_type": "markdown",
   "metadata": {
    "ExecuteTime": {
     "end_time": "2025-09-22T14:28:29.992955Z",
     "start_time": "2025-09-22T14:28:29.991453Z"
    }
   },
   "source": [
    "Let us visualize the spectral bandwidth separately:"
   ]
  },
  {
   "cell_type": "code",
   "metadata": {},
   "source": [
    "plt.figure(figsize=(17, 10))\n",
    "\n",
    "plt.subplot(2, 2, 1)\n",
    "librosa.display.waveshow(normal * max(sb_normal), alpha=0.5)\n",
    "plt.plot(t, sb_normal, color=\"g\")\n",
    "plt.ylabel(\"Hz\")\n",
    "plt.ylim(0, None)\n",
    "plt.title(\"Normal\")\n",
    "\n",
    "plt.subplot(2, 2, 2)\n",
    "librosa.display.waveshow(s2_split * max(sb_s2_split), alpha=0.5)\n",
    "plt.plot(t, sb_s2_split, color=\"g\")\n",
    "plt.ylabel(\"Hz\")\n",
    "plt.ylim(0, None)\n",
    "plt.title(\"S2 split\")\n",
    "\n",
    "plt.subplot(2, 2, 3)\n",
    "librosa.display.waveshow(s3 * max(sb_s3), alpha=0.5)\n",
    "plt.plot(t, sb_s3, color=\"g\")\n",
    "plt.ylabel(\"Hz\")\n",
    "plt.ylim(0, None)\n",
    "plt.title(\"S3\")\n",
    "\n",
    "plt.subplot(2, 2, 4)\n",
    "librosa.display.waveshow(mid_syst_murmur * max(sb_mid_syst_murmur), alpha=0.5)\n",
    "plt.plot(t, sb_mid_syst_murmur, color=\"g\")\n",
    "plt.ylabel(\"Hz\")\n",
    "plt.ylim(0, None)\n",
    "plt.title(\"Mid systolic murmur\")\n",
    "\n",
    "plt.suptitle(\"Spectral bandwidth\")\n",
    "plt.show()"
   ],
   "outputs": [],
   "execution_count": null
  },
  {
   "cell_type": "markdown",
   "metadata": {},
   "source": [
    "### Spectrograms\n",
    "\n",
    "We plot varius spectrograms:\n",
    "- STFT\n",
    "- Mel spectrogram\n",
    "- MFCC\n",
    "\n",
    "Notes about STFT:\n",
    "- By default, window size == n_fft == FRAME_SIZE\n",
    "- The default is a centered Hann window (zero padding)\n",
    "- Because the number of frequency bins is equal to the frame size (+1), there is a **time-frequency localization trade-off**: smaller frame size improves the temporal resolution of the STFT (i.e. the ability to discriminate impulses that are closely spaced in time) at the expense of frequency resolution (i.e. the ability to discriminate pure tones that are closely spaced in frequency)."
   ]
  },
  {
   "cell_type": "code",
   "metadata": {},
   "source": [
    "# Attention: when used as n_fft in stft, FRAME_SIZE must be a power of 2\n",
    "#FRAME_SIZE = 2**6 # 64 samples. Corresponds to ~32ms at 2kHz\n",
    "FRAME_SIZE = 2**5 # 32 samples. Corresponds to ~16ms at 2kHz\n",
    "#HOP_LENGTH = 2**3 # 8 samples. Corresponds to ~4ms at 2kHz\n",
    "#HOP_LENGTH = 2**2 # 4 samples. Corresponds to ~2ms at 2kHz\n",
    "HOP_LENGTH = 2**1 # 2 samples. Corresponds to ~1ms at 2kHz\n",
    "N_MFCC = 13"
   ],
   "outputs": [],
   "execution_count": null
  },
  {
   "cell_type": "code",
   "metadata": {},
   "source": [
    "def plot_spectrograms(data, title, rate):\n",
    "    # Compute STFT\n",
    "    stft = librosa.stft(data, n_fft=FRAME_SIZE, hop_length=HOP_LENGTH)\n",
    "    stft_power = np.abs(stft) ** 2\n",
    "    stft_logpower = librosa.power_to_db(stft_power)\n",
    "\n",
    "    # Compute Mel spectrogram\n",
    "    mel_spectrogram = librosa.feature.melspectrogram(y=data, sr=rate, n_fft=FRAME_SIZE, hop_length=HOP_LENGTH, n_mels=N_MFCC)\n",
    "    log_mel_spectrogram = librosa.power_to_db(mel_spectrogram, ref=np.max)\n",
    "\n",
    "    # Compute MFCC\n",
    "    # Given we use the Mel spectrogram as inputs, it makes sense to use the same number of output bins in both functions.\n",
    "    mfccs = librosa.feature.mfcc(S=librosa.power_to_db(mel_spectrogram), n_mfcc=N_MFCC, sr=rate)\n",
    "\n",
    "\n",
    "    fig, (ax1, ax2, ax3, ax4) = plt.subplots(4, 1, sharex=True, figsize=(17, 10), gridspec_kw={'height_ratios': [1, 5, 5, 5]})\n",
    "    librosa.display.waveshow(data, sr=rate, ax=ax1)\n",
    "    ax1.set_title(\"Waveform\", rotation=270, x=1.05, y=0.3)\n",
    "    img = librosa.display.specshow(stft_logpower,\n",
    "                             sr=rate,\n",
    "                             hop_length=HOP_LENGTH,\n",
    "                             x_axis=\"time\",\n",
    "                             y_axis=\"log\",\n",
    "                             cmap='inferno',\n",
    "                             ax=ax2)\n",
    "    #fig.colorbar(img, ax=ax2, format='%+2.0f dB')\n",
    "    ax2.set_title(\"Log-power spectrogram\", rotation=270, x=1.05, y=0.3)\n",
    "\n",
    "    librosa.display.specshow(log_mel_spectrogram,\n",
    "                             sr=rate,\n",
    "                             hop_length=HOP_LENGTH,\n",
    "                             x_axis=\"time\",\n",
    "                             y_axis=\"mel\",\n",
    "                             cmap='inferno',\n",
    "                             ax=ax3)\n",
    "    ax3.set_title(\"Mel spectrogram\", rotation=270, x=1.05, y=0.2)\n",
    "\n",
    "    librosa.display.specshow(mfccs,\n",
    "                             sr=rate,\n",
    "                             hop_length=HOP_LENGTH,\n",
    "                             x_axis=\"time\",\n",
    "                             y_axis=\"mel\",\n",
    "                             cmap='inferno',\n",
    "                             ax=ax4)\n",
    "    ax4.set_title(\"MFCC\", rotation=270, x=1.05, y=0.5)\n",
    "    fig.suptitle(title)\n",
    "\n",
    "    plt.show()"
   ],
   "outputs": [],
   "execution_count": null
  },
  {
   "cell_type": "code",
   "metadata": {},
   "source": [
    "plot_spectrograms(normal_resampled, \"Normal\", SR)\n",
    "plot_spectrograms(s2_split_resampled, \"S2 split\", SR)\n",
    "plot_spectrograms(s3_resampled, \"S3\", SR)\n",
    "plot_spectrograms(mid_syst_murmur_resampled, \"Mid systolic murmur\", SR)"
   ],
   "outputs": [],
   "execution_count": null
  },
  {
   "cell_type": "markdown",
   "metadata": {},
   "source": [
    "Observations:\n",
    "- The temporal resolution (frame size) was sufficient for making the S2 split clearly visible.\n",
    "- The systolic murmur is easily identifiable despite a much larger steady noise level than in other recordings."
   ]
  },
  {
   "cell_type": "markdown",
   "metadata": {},
   "source": [
    "### Reassigned spectrogram\n",
    "\n",
    "In a reassigned spectrogram, the time and frequency bins are changing to adapt to sudden changes in the signal.\n",
    "This prevents an event to be smeared over several bins boundaries."
   ]
  },
  {
   "cell_type": "code",
   "metadata": {},
   "source": [
    "# Compute the reassigned spectrogram\n",
    "\n",
    "def spectogram_reassigned_spectogram(signal, rate):\n",
    "    freqs, times, mags = librosa.reassigned_spectrogram(y=signal, sr=rate, hop_length=HOP_LENGTH, n_fft=FRAME_SIZE, center=False)\n",
    "    mags_db = librosa.amplitude_to_db(mags, ref=np.max)\n",
    "    fig, ax = plt.subplots(nrows=2, sharex=True, sharey=True, figsize=(17, 10))\n",
    "    img = librosa.display.specshow(mags_db, x_axis=\"s\", y_axis=\"linear\", sr=rate,\n",
    "                             hop_length=HOP_LENGTH, ax=ax[0])\n",
    "    ax[0].set(title=\"Spectrogram\", xlabel=None)\n",
    "    ax[0].label_outer()\n",
    "    ax[1].scatter(times, freqs, c=mags_db, cmap=\"magma\", alpha=0.5, s=5)\n",
    "    ax[1].set_title(\"Reassigned spectrogram\")\n",
    "    ax[1].set_xlabel(\"Time (s)\")\n",
    "    ax[1].set_ylabel(\"Instantaneous frequency (Hz)\")\n",
    "    fig.colorbar(img, ax=ax, format=\"%+2.f dB\")\n",
    "    plt.show()"
   ],
   "outputs": [],
   "execution_count": null
  },
  {
   "cell_type": "markdown",
   "metadata": {},
   "source": [
    "#### Normal S1 S2"
   ]
  },
  {
   "cell_type": "code",
   "metadata": {},
   "source": [
    "spectogram_reassigned_spectogram(normal_resampled, SR)"
   ],
   "outputs": [],
   "execution_count": null
  },
  {
   "cell_type": "markdown",
   "metadata": {
    "ExecuteTime": {
     "end_time": "2025-09-25T11:36:25.618144Z",
     "start_time": "2025-09-25T11:36:25.616662Z"
    }
   },
   "source": [
    "We can clearly see that the reassigned spectrogram contains much finer details (frequency axis). The horizontal lines are the heart sounds with their harmonics."
   ]
  },
  {
   "cell_type": "markdown",
   "metadata": {},
   "source": [
    "#### Split S2\n",
    "\n",
    "\n",
    "The plot below shows that it is much more difficult to recognize an S2 split in the reassigned spectrogram:"
   ]
  },
  {
   "cell_type": "code",
   "metadata": {},
   "source": [
    "spectogram_reassigned_spectogram(s2_split_resampled, SR)"
   ],
   "outputs": [],
   "execution_count": null
  },
  {
   "cell_type": "markdown",
   "metadata": {},
   "source": [
    "#### S3\n",
    "\n",
    "S3 sounds are visible with their lower pitch than S1 and S2:"
   ]
  },
  {
   "cell_type": "code",
   "metadata": {},
   "source": [
    "spectogram_reassigned_spectogram(s3_resampled, SR)"
   ],
   "outputs": [],
   "execution_count": null
  },
  {
   "cell_type": "markdown",
   "metadata": {},
   "source": [
    "#### S4\n",
    "\n",
    "S4 is visible as a low pitch sound preceding S1, but the reassigned spectrogram becomes difficult to read:"
   ]
  },
  {
   "cell_type": "code",
   "metadata": {},
   "source": [
    "spectogram_reassigned_spectogram(s4_resampled, SR)"
   ],
   "outputs": [],
   "execution_count": null
  },
  {
   "cell_type": "markdown",
   "metadata": {},
   "source": [
    "#### Mid systolic click\n",
    "\n",
    "The click is easily identifiable due to the lack of horizontal 60 Hz fundamental frequency:"
   ]
  },
  {
   "cell_type": "code",
   "metadata": {},
   "source": [
    "spectogram_reassigned_spectogram(mid_syst_click_resampled, SR)"
   ],
   "outputs": [],
   "execution_count": null
  },
  {
   "cell_type": "markdown",
   "metadata": {},
   "source": [
    "#### Mid systolic murmur\n",
    "\n",
    "The murmur is also clearly visible despite the constant background noise:"
   ]
  },
  {
   "cell_type": "code",
   "metadata": {},
   "source": [
    "spectogram_reassigned_spectogram(mid_syst_murmur_resampled, SR)"
   ],
   "outputs": [],
   "execution_count": null
  },
  {
   "cell_type": "markdown",
   "metadata": {
    "ExecuteTime": {
     "end_time": "2025-09-25T13:28:32.789302Z",
     "start_time": "2025-09-25T13:28:32.787538Z"
    }
   },
   "source": [
    "#### Mid systolic click with murmur\n",
    "\n",
    "Can be distinguished from the systolic murmur alone by the presence of a high energetic front initiating the murmur."
   ]
  },
  {
   "cell_type": "code",
   "metadata": {},
   "source": [
    "spectogram_reassigned_spectogram(syst_click_with_murmur_resampled, SR)"
   ],
   "outputs": [],
   "execution_count": null
  },
  {
   "cell_type": "code",
   "metadata": {},
   "source": [],
   "outputs": [],
   "execution_count": null
  }
 ],
 "metadata": {
  "kernelspec": {
   "display_name": "Python (heart-sound-notebook)",
   "language": "python",
   "name": "heart-sound-notebook"
  },
  "language_info": {
   "codemirror_mode": {
    "name": "ipython",
    "version": 3
   },
   "file_extension": ".py",
   "mimetype": "text/x-python",
   "name": "python",
   "nbconvert_exporter": "python",
   "pygments_lexer": "ipython3",
   "version": "3.13.7"
  }
 },
 "nbformat": 4,
 "nbformat_minor": 4
}
