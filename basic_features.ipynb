{
 "cells": [
  {
   "metadata": {
    "ExecuteTime": {
     "end_time": "2025-09-26T15:11:13.315604Z",
     "start_time": "2025-09-26T15:11:13.312356Z"
    }
   },
   "cell_type": "code",
   "source": [
    "import matplotlib.pyplot as plt\n",
    "import numpy as np\n",
    "from IPython.display import Image, display, Markdown\n",
    "from scipy.signal import hilbert\n",
    "import librosa.display\n",
    "import librosa.feature\n",
    "import IPython.display as ipd\n",
    "from scipy.signal import butter, filtfilt\n",
    "from ipywidgets import interact, Label\n",
    "import os\n",
    "\n",
    "# We make sure we are in the right directory\n",
    "if not os.path.isdir(\"assets\"):\n",
    "    %cd heart-sound-notebook"
   ],
   "outputs": [],
   "execution_count": 17
  },
  {
   "cell_type": "markdown",
   "metadata": {
    "ExecuteTime": {
     "end_time": "2025-09-16T13:27:24.942602Z",
     "start_time": "2025-09-16T13:27:24.938987Z"
    }
   },
   "source": [
    "# Basic audio features\n",
    "\n",
    "- Code inspired from: https://github.com/musikalkemist/AudioSignalProcessingForML\n",
    "- Accompanying videos: https://www.youtube.com/watch?v=iCwMQJnKk2c&list=PL-wATfeyAMNqIee7cH3q1bh4QJFAaeNv0&ab_channel=ValerioVelardo-TheSoundofAI\n",
    "- The audio files are high-quality textbook examples heart sounds from [Michigan University](https://deepblue.lib.umich.edu/handle/2027.42/120554) (fortunately rescued by deepblue!)."
   ]
  },
  {
   "cell_type": "markdown",
   "metadata": {},
   "source": [
    "## Loading audio files"
   ]
  },
  {
   "cell_type": "markdown",
   "metadata": {},
   "source": [
    "We start by loading some heart sounds:"
   ]
  },
  {
   "cell_type": "code",
   "metadata": {
    "ExecuteTime": {
     "end_time": "2025-09-26T15:11:13.389372Z",
     "start_time": "2025-09-26T15:11:13.368673Z"
    }
   },
   "source": [
    "# load audio files with librosa\n",
    "\n",
    "DURATION = 2.0 # seconds\n",
    "\n",
    "def load_audio(filename, offset=0, duration=DURATION, normalize=True):\n",
    "    y, sampling_rate = librosa.load(filename, offset=offset, duration=duration)\n",
    "    if normalize:\n",
    "        y = librosa.util.normalize(y)\n",
    "    return y, sampling_rate\n",
    "\n",
    "# Audio file name, offset, label, schematic name\n",
    "# The offset is chose so that the first sound is a S1 (or S4).\n",
    "input_matrix = [[\"assets/heart_sounds/01_apex_normal_s1_s2_supine_bell.mp3\", 1.0, \"Normal S1 S2\", \"assets/figures/aortic-normal_s1_s2.png\"],\n",
    "          [\"assets/heart_sounds/19_pulm_spilt_s2_persistent_supine_diaph.mp3\", 1.5, \"Split S2\", \"assets/figures/pulmonic-ejection_systolic_murmur_with_transient_splitting_s2.png\"],\n",
    "          [\"assets/heart_sounds/05_apex_s3_lld_bell.mp3\", 1.1, \"S3\", \"assets/figures/s3_gallop.png\"],\n",
    "          [\"assets/heart_sounds/03_apex_s4_lld_bell.mp3\", 1.0, \"S4\", \"assets/figures/s4_gallop.png\"],\n",
    "          [\"assets/heart_sounds/04_apex_mid_sys_click_supine_bell.mp3\", 1.2, \"Mid systolic click\", \"assets/figures/mid-systolic-click_mitral_valve_prolapse.png\"],\n",
    "          [\"assets/heart_sounds/07_apex_mid_sys_mur_supine_bell.mp3\", 1.2, \"Mid systolic murmur\", \"assets/figures/mid-systolic-murmur.png\"],\n",
    "          [\"assets/heart_sounds/10_apex_sys_click__late_sys_mur_lld_bell.mp3\", 1.1, \"Systolic click with late systolic murmur\", \"assets/figures/systolic_click_with_late_systolic_murmur.png\"],\n",
    "          ]\n",
    "\n",
    "# Convenience method for getting the label given a sample number\n",
    "def label(sample):\n",
    "    return input_matrix[sample][2]\n",
    "\n",
    "# Convenience object containing the list of (label, sample index)\n",
    "enum_list = [(row[2], idx) for (idx, row) in enumerate(input_matrix)]\n",
    "    \n",
    "# Audio data, sampling rate\n",
    "orig_data = [load_audio(file, offset) for (file, offset, _, _) in input_matrix]"
   ],
   "outputs": [],
   "execution_count": 18
  },
  {
   "cell_type": "code",
   "metadata": {
    "ExecuteTime": {
     "end_time": "2025-09-26T15:11:13.443347Z",
     "start_time": "2025-09-26T15:11:13.440352Z"
    }
   },
   "source": [
    "# Duration of the first audio file\n",
    "\n",
    "audio_0 = orig_data[0]\n",
    "sr = audio_0[1]\n",
    "print(f\"Original sampling rate: {sr} Hz\")\n",
    "tot_samples = len(audio_0[0])\n",
    "duration = 1 / sr * tot_samples\n",
    "print(f\"The audio lasts for {duration} seconds\")"
   ],
   "outputs": [
    {
     "name": "stdout",
     "output_type": "stream",
     "text": [
      "Original sampling rate: 22050 Hz\n",
      "The audio lasts for 2.0 seconds\n"
     ]
    }
   ],
   "execution_count": 19
  },
  {
   "cell_type": "markdown",
   "metadata": {},
   "source": [
    "Each heart sound has specific features characteristic of a condition (or lack of):"
   ]
  },
  {
   "cell_type": "code",
   "metadata": {
    "ExecuteTime": {
     "end_time": "2025-09-26T15:11:13.504613Z",
     "start_time": "2025-09-26T15:11:13.493771Z"
    }
   },
   "source": [
    "def display_schematic_and_audio(sample):\n",
    "    display(Image(input_matrix[sample][3]))\n",
    "    display(ipd.Audio(data=orig_data[sample][0], rate=orig_data[sample][1]))\n",
    "\n",
    "interact(display_schematic_and_audio, sample=enum_list);"
   ],
   "outputs": [
    {
     "data": {
      "text/plain": [
       "interactive(children=(Dropdown(description='sample', options=(('Normal S1 S2', 0), ('Split S2', 1), ('S3', 2),…"
      ],
      "application/vnd.jupyter.widget-view+json": {
       "version_major": 2,
       "version_minor": 0,
       "model_id": "027179cb48d94b079e18f2653380ddac"
      }
     },
     "metadata": {},
     "output_type": "display_data",
     "jetTransient": {
      "display_id": null
     }
    }
   ],
   "execution_count": 20
  },
  {
   "cell_type": "markdown",
   "metadata": {},
   "source": [
    "## Resampling"
   ]
  },
  {
   "cell_type": "markdown",
   "metadata": {},
   "source": [
    "Heart sounds have frequencies covering 15-1kHz range.\n",
    "Resampling will lower the dimension of the data and facilitate the training of the model.\n",
    "\n",
    "Choosing a Nyquist frequency of 1024 Hz, we resample with twice this frequency. Note that an antialiasing filter is automatically applied."
   ]
  },
  {
   "cell_type": "code",
   "metadata": {
    "ExecuteTime": {
     "end_time": "2025-09-26T15:11:13.704476Z",
     "start_time": "2025-09-26T15:11:13.692911Z"
    }
   },
   "source": [
    "SR = 2048\n",
    "\n",
    "def resample_all(orig_data_with_sr, target_sr=SR):\n",
    "    return [librosa.resample(data, orig_sr=orig_sr, target_sr=target_sr, res_type=\"soxr_vhq\")  for (data, orig_sr) in orig_data_with_sr]\n",
    "\n",
    "data = resample_all(orig_data)"
   ],
   "outputs": [],
   "execution_count": 21
  },
  {
   "cell_type": "markdown",
   "metadata": {},
   "source": [
    "We listen to the resampled audio files just to make sure that we did not introduce any aliasing:"
   ]
  },
  {
   "cell_type": "code",
   "metadata": {
    "ExecuteTime": {
     "end_time": "2025-09-26T15:11:13.776885Z",
     "start_time": "2025-09-26T15:11:13.755373Z"
    }
   },
   "source": [
    "# Web browsers won't play audio with a rate under 3kHz.\n",
    "# Just for the sake of playing the downsampled files, we upsample to the minimum allowed sr.\n",
    "\n",
    "DUMMY_SR = 3000\n",
    "\n",
    "dummy_data = resample_all(orig_data, DUMMY_SR)\n",
    "\n",
    "def display_schematic_and_audio(sample):\n",
    "    orig_sr = orig_data[sample][1]\n",
    "    display(Label(f\"Original sampling rate ({orig_sr} Hz):\"))\n",
    "    display(ipd.Audio(data=orig_data[sample][0], rate=orig_sr))\n",
    "    display(Label(\"Down-sampled:\"))\n",
    "    display(ipd.Audio(data=dummy_data[sample], rate=DUMMY_SR))\n",
    "    \n",
    "interact(display_schematic_and_audio, sample=enum_list);"
   ],
   "outputs": [
    {
     "data": {
      "text/plain": [
       "interactive(children=(Dropdown(description='sample', options=(('Normal S1 S2', 0), ('Split S2', 1), ('S3', 2),…"
      ],
      "application/vnd.jupyter.widget-view+json": {
       "version_major": 2,
       "version_minor": 0,
       "model_id": "9a1ab7f5d6bc474dacf5a063bbdd659b"
      }
     },
     "metadata": {},
     "output_type": "display_data",
     "jetTransient": {
      "display_id": null
     }
    }
   ],
   "execution_count": 22
  },
  {
   "cell_type": "markdown",
   "metadata": {},
   "source": [
    "We can also look at the waveform to check that we are not loosing any important details:"
   ]
  },
  {
   "cell_type": "code",
   "metadata": {
    "ExecuteTime": {
     "end_time": "2025-09-26T15:11:14.159865Z",
     "start_time": "2025-09-26T15:11:13.861079Z"
    }
   },
   "source": [
    "def plot_original_and_downsampled(signal, signal_resampled, start_ratio=0, end_ratio=1):\n",
    "    plt.figure(figsize=(14, 8))\n",
    "\n",
    "    plt.subplot(2, 1, 1)\n",
    "    librosa.display.waveshow(signal[int(len(signal)*start_ratio):int(len(signal)*end_ratio)], sr=sr, alpha=0.5, marker=\".\")\n",
    "    plt.title(\"22kHz\")\n",
    "\n",
    "    plt.subplot(2, 1, 2)\n",
    "    librosa.display.waveshow(signal_resampled[int(len(signal_resampled)*start_ratio):int(len(signal_resampled)*end_ratio)], sr=SR, alpha=0.5, marker=\".\")\n",
    "    plt.title(\"2kHz\")\n",
    "\n",
    "    plt.suptitle(\"Waveform (original and downsampled)\")\n",
    "    plt.show()\n",
    "\n",
    "plot_original_and_downsampled(orig_data[0][0], data[0], 0.02, 0.12)"
   ],
   "outputs": [
    {
     "data": {
      "text/plain": [
       "<Figure size 1400x800 with 2 Axes>"
      ],
      "image/png": "[encoded data removed]"
     },
     "metadata": {},
     "output_type": "display_data",
     "jetTransient": {
      "display_id": null
     }
    }
   ],
   "execution_count": 23
  },
  {
   "cell_type": "markdown",
   "metadata": {},
   "source": [
    "## Waveform\n",
    "\n",
    "Let us look at the waveform of some common heart sounds:"
   ]
  },
  {
   "cell_type": "code",
   "metadata": {
    "ExecuteTime": {
     "end_time": "2025-09-26T15:11:14.358891Z",
     "start_time": "2025-09-26T15:11:14.216025Z"
    }
   },
   "source": [
    "def plot_waveform(signal, title, start_ratio=0, end_ratio=1):\n",
    "    plt.figure(figsize=(15, 5))\n",
    "    librosa.display.waveshow(signal[int(len(signal)*start_ratio):int(len(signal)*end_ratio)], sr=SR, alpha=0.5, marker=\".\")\n",
    "    plt.title(title)\n",
    "    plt.show()\n",
    "\n",
    "def display_schematic_and_audio(sample):\n",
    "    plot_waveform(data[sample], f\"Waveform ({label(sample)})\", 0, 0.4)\n",
    "    \n",
    "interact(display_schematic_and_audio, sample=enum_list);"
   ],
   "outputs": [
    {
     "data": {
      "text/plain": [
       "interactive(children=(Dropdown(description='sample', options=(('Normal S1 S2', 0), ('Split S2', 1), ('S3', 2),…"
      ],
      "application/vnd.jupyter.widget-view+json": {
       "version_major": 2,
       "version_minor": 0,
       "model_id": "c7e189df0a51473d9e2263fced79bca2"
      }
     },
     "metadata": {},
     "output_type": "display_data",
     "jetTransient": {
      "display_id": null
     }
    }
   ],
   "execution_count": 24
  },
  {
   "cell_type": "markdown",
   "metadata": {},
   "source": [
    "### Observations\n",
    "\n",
    "- Durations:\n",
    "  - S1 and S2: ~80ms\n",
    "  - S3 and S4: ~150ms\n",
    "  - Clicks: ~50ms\n",
    "  - P2-A2 (first and second sounds of split S2): ~60ms\n",
    "- Pitch:\n",
    "  - S1 and S2: about 60 Hz\n",
    "  - S2 and S3: lower than S1 and S2\n",
    "  - Clicks: higher than S1 and S2. Messy.\n",
    "- Amplitude:\n",
    "  - S1 and S2: large. S1 > S2 in some cases.\n",
    "  - S2 and S3: medium\n",
    "  - Clicks: low\n",
    "\n",
    "Based on these observations, we should aim to have a temporal resolution < 25ms (half of the smallest feature duration)."
   ]
  },
  {
   "cell_type": "markdown",
   "metadata": {},
   "source": [
    "## Time domain"
   ]
  },
  {
   "cell_type": "markdown",
   "metadata": {},
   "source": [
    "We start by defining the properties of the sliding window:"
   ]
  },
  {
   "cell_type": "code",
   "metadata": {
    "ExecuteTime": {
     "end_time": "2025-09-26T15:11:14.415133Z",
     "start_time": "2025-09-26T15:11:14.412833Z"
    }
   },
   "source": [
    "# Attention: when used as n_fft in stft, FRAME_SIZE must be a power of 2\n",
    "FRAME_SIZE = 2**6  # 64 samples. Corresponds to ~32ms at 2kHz\n",
    "HOP_LENGTH = 2**4  # 16 samples. Corresponds to ~16ms at 2kHz"
   ],
   "outputs": [],
   "execution_count": 25
  },
  {
   "cell_type": "markdown",
   "metadata": {},
   "source": [
    "To get the envelope, we compute the Hilbert transform to get the analytic form. From it we can extract the instantaneous amplitude (envelope). We could also get the instantaneous frequency.\n",
    "We apply a low-pass filter to smooth the envelope. Subsampling would probably also work fine."
   ]
  },
  {
   "cell_type": "code",
   "metadata": {
    "ExecuteTime": {
     "end_time": "2025-09-26T15:11:14.475653Z",
     "start_time": "2025-09-26T15:11:14.468104Z"
    }
   },
   "source": [
    "# Compute smoothed envelope\n",
    "\n",
    "def smooth_envelope(signal, rate):\n",
    "    signal_analytic = hilbert(signal)\n",
    "    instantaneous_amplitude = np.abs(signal_analytic)\n",
    "\n",
    "    # Design a low-pass Butterworth filter\n",
    "    cutoff = 30  # cutoff frequency in Hz\n",
    "    order = 2    # filter order\n",
    "    b, a = butter(order, cutoff, btype='low', fs=rate)  # normalized frequency (Nyquist)\n",
    "\n",
    "    # zero-phase filtering\n",
    "    envelope = filtfilt(b, a, instantaneous_amplitude)\n",
    "\n",
    "    return envelope\n",
    "\n",
    "# Compute envelopes\n",
    "env = [smooth_envelope(signal, SR) for signal in data]\n",
    "\n",
    "# Time vector\n",
    "t_env = np.linspace(0, DURATION, len(env[0]))\n",
    "\n",
    "#def ifreq(analytic, rate):\n",
    "#  instantaneous_phase = np.unwrap(np.angle(analytic))\n",
    "#  return np.diff(instantaneous_phase) * rate / (2.0*np.pi)\n",
    "\n",
    "#ifreq_normal = ifreq(normal_analytic, SR)\n",
    "#ifreq_s2_split = ifreq(s2_split_analytic, SR)\n",
    "#ifreq_s3 = ifreq(s3_analytic, SR)\n",
    "#ifreq_mid_syst_murmur = ifreq(mid_syst_murmur_analytic, SR)\n",
    "\n",
    "# Time axis for freq (one sample shorter)\n",
    "#t_freq = t_amp[1:]"
   ],
   "outputs": [],
   "execution_count": 26
  },
  {
   "cell_type": "markdown",
   "metadata": {},
   "source": [
    "We also compute the RMS energy:"
   ]
  },
  {
   "cell_type": "code",
   "metadata": {
    "ExecuteTime": {
     "end_time": "2025-09-26T15:11:14.535398Z",
     "start_time": "2025-09-26T15:11:14.531732Z"
    }
   },
   "source": [
    "# Computing RMS energy\n",
    "\n",
    "rms = [librosa.feature.rms(y=signal, frame_length=FRAME_SIZE, hop_length=HOP_LENGTH)[0] for signal in data]\n",
    "\n",
    "# Time vector from frames\n",
    "frames = range(len(rms[0]))\n",
    "t_rms = librosa.frames_to_time(frames, sr=SR, hop_length=HOP_LENGTH)"
   ],
   "outputs": [],
   "execution_count": 27
  },
  {
   "cell_type": "markdown",
   "metadata": {},
   "source": [
    "And Zero-crossing rate:"
   ]
  },
  {
   "cell_type": "code",
   "metadata": {
    "ExecuteTime": {
     "end_time": "2025-09-26T15:11:14.588449Z",
     "start_time": "2025-09-26T15:11:14.584204Z"
    }
   },
   "source": [
    "# Computing ZCR\n",
    "\n",
    "zcr = [librosa.feature.zero_crossing_rate(y=signal, frame_length=FRAME_SIZE, hop_length=HOP_LENGTH)[0] for signal in data]\n",
    "\n",
    "# Time vector from frames\n",
    "frames = range(len(rms[0]))\n",
    "t_zcr = librosa.frames_to_time(frames, sr=SR, hop_length=HOP_LENGTH)"
   ],
   "outputs": [],
   "execution_count": 28
  },
  {
   "cell_type": "code",
   "metadata": {
    "ExecuteTime": {
     "end_time": "2025-09-26T15:11:14.811051Z",
     "start_time": "2025-09-26T15:11:14.639112Z"
    }
   },
   "source": [
    "def plot_temporal_features(sample):\n",
    "    plt.figure(figsize=(14, 6))\n",
    "\n",
    "    librosa.display.waveshow(data[sample], sr=SR, alpha=0.5)\n",
    "    plt.plot(t_env, env[sample], color=\"r\")\n",
    "    plt.plot(t_rms, rms[sample], color=\"g\")\n",
    "    plt.plot(t_zcr, zcr[sample], color=\"y\")\n",
    "    plt.ylim((-1, 1))\n",
    "    plt.title(f\"Temporal features ({label(sample)})\")\n",
    "    plt.legend([\"\", \"Waveform\", \"AE\", \"RMS energy\", \"ZCR\"])\n",
    "\n",
    "    plt.show()\n",
    "\n",
    "interact(plot_temporal_features, sample=enum_list);"
   ],
   "outputs": [
    {
     "data": {
      "text/plain": [
       "interactive(children=(Dropdown(description='sample', options=(('Normal S1 S2', 0), ('Split S2', 1), ('S3', 2),…"
      ],
      "application/vnd.jupyter.widget-view+json": {
       "version_major": 2,
       "version_minor": 0,
       "model_id": "437a7ceede6f4f8eba98cdff83c2ffc0"
      }
     },
     "metadata": {},
     "output_type": "display_data",
     "jetTransient": {
      "display_id": null
     }
    }
   ],
   "execution_count": 29
  },
  {
   "cell_type": "markdown",
   "metadata": {},
   "source": [
    "## Frequency domain"
   ]
  },
  {
   "cell_type": "markdown",
   "metadata": {},
   "source": [
    "We use FFT to compute the amplitude spectrum.\n",
    "\n",
    "Note that FFT produces as many frequencies as input points (and that it is wise to use a power of 2)."
   ]
  },
  {
   "cell_type": "code",
   "metadata": {
    "ExecuteTime": {
     "end_time": "2025-09-26T15:11:14.869266Z",
     "start_time": "2025-09-26T15:11:14.865474Z"
    }
   },
   "source": [
    "def amplitude_spectrum(signal):\n",
    "    fft = np.fft.fft(signal)\n",
    "    return np.abs(fft)\n",
    "\n",
    "# Frequency vector\n",
    "frequencies = librosa.fft_frequencies(sr=SR, n_fft=len(data[0]))\n",
    "\n",
    "# The amplitude spectrum is symmetrical around the Nyquist frequency.\n",
    "# We discard the right side by keeping range 0 -> len(frequencies)\n",
    "fft = [amplitude_spectrum(signal)[:len(frequencies)] for signal in data]"
   ],
   "outputs": [],
   "execution_count": 30
  },
  {
   "cell_type": "code",
   "metadata": {
    "ExecuteTime": {
     "end_time": "2025-09-26T15:11:15.012468Z",
     "start_time": "2025-09-26T15:11:14.922055Z"
    }
   },
   "source": [
    "def plot_spectrum(sample):\n",
    "    plt.figure(figsize=(14, 5))\n",
    "    plt.plot(frequencies, fft[sample])\n",
    "    plt.xlabel('Frequency (Hz)')\n",
    "    plt.title(f\"Amplitude spectrum ({label(sample)})\")\n",
    "    plt.show()\n",
    "\n",
    "interact(plot_spectrum, sample=enum_list);"
   ],
   "outputs": [
    {
     "data": {
      "text/plain": [
       "interactive(children=(Dropdown(description='sample', options=(('Normal S1 S2', 0), ('Split S2', 1), ('S3', 2),…"
      ],
      "application/vnd.jupyter.widget-view+json": {
       "version_major": 2,
       "version_minor": 0,
       "model_id": "f1ae4b4afc854366aad3908224556d89"
      }
     },
     "metadata": {},
     "output_type": "display_data",
     "jetTransient": {
      "display_id": null
     }
    }
   ],
   "execution_count": 31
  },
  {
   "cell_type": "markdown",
   "metadata": {},
   "source": [
    "We can also display the log-power spectrum:"
   ]
  },
  {
   "cell_type": "code",
   "metadata": {
    "ExecuteTime": {
     "end_time": "2025-09-26T15:11:15.179494Z",
     "start_time": "2025-09-26T15:11:15.065248Z"
    }
   },
   "source": [
    "def plot_spectrum(sample):\n",
    "    plt.figure(figsize=(14, 5))\n",
    "    plt.plot(frequencies, librosa.power_to_db(fft[sample] **2))\n",
    "    plt.xlabel('Frequency (Hz)')\n",
    "    plt.xlabel('dB')\n",
    "    plt.title(f\"Log-power spectrum ({label(sample)})\")\n",
    "    plt.show()\n",
    "\n",
    "interact(plot_spectrum, sample=enum_list);"
   ],
   "outputs": [
    {
     "data": {
      "text/plain": [
       "interactive(children=(Dropdown(description='sample', options=(('Normal S1 S2', 0), ('Split S2', 1), ('S3', 2),…"
      ],
      "application/vnd.jupyter.widget-view+json": {
       "version_major": 2,
       "version_minor": 0,
       "model_id": "520e85aad1004c15b577672c244542ef"
      }
     },
     "metadata": {},
     "output_type": "display_data",
     "jetTransient": {
      "display_id": null
     }
    }
   ],
   "execution_count": 32
  },
  {
   "cell_type": "markdown",
   "metadata": {
    "ExecuteTime": {
     "end_time": "2025-09-22T12:49:08.700150Z",
     "start_time": "2025-09-22T12:49:08.695565Z"
    }
   },
   "source": [
    "## Time-frequency domain"
   ]
  },
  {
   "cell_type": "markdown",
   "metadata": {},
   "source": [
    "### Spectral centroid and bandwidth\n",
    "\n",
    "- Spectral centroid: centre of gravity of mass of the spectrum (mean frequency).\n",
    "- Spectral bandwidth: spread of a signal’s frequency content around its spectral centroid (equivalent of a standard deviation)."
   ]
  },
  {
   "cell_type": "code",
   "metadata": {
    "ExecuteTime": {
     "end_time": "2025-09-26T15:11:15.232404Z",
     "start_time": "2025-09-26T15:11:15.230Z"
    }
   },
   "source": [
    "FRAME_SIZE = 2**6\n",
    "HOP_LENGTH = 2**3"
   ],
   "outputs": [],
   "execution_count": 33
  },
  {
   "cell_type": "code",
   "metadata": {
    "ExecuteTime": {
     "end_time": "2025-09-26T15:11:15.296429Z",
     "start_time": "2025-09-26T15:11:15.282551Z"
    }
   },
   "source": [
    "# Spectral centroid\n",
    "sc = [librosa.feature.spectral_centroid(y=signal, sr=SR, n_fft=FRAME_SIZE, hop_length=HOP_LENGTH)[0] for signal in data]\n",
    "\n",
    "# Spectral bandwidth\n",
    "sb = [librosa.feature.spectral_bandwidth(y=signal, sr=SR, n_fft=FRAME_SIZE, hop_length=HOP_LENGTH)[0] for signal in data]\n",
    "\n",
    "# Time vector\n",
    "frames = range(len(sc[0]))\n",
    "t = librosa.frames_to_time(frames, sr=SR, hop_length=HOP_LENGTH)"
   ],
   "outputs": [],
   "execution_count": 34
  },
  {
   "cell_type": "code",
   "metadata": {
    "ExecuteTime": {
     "end_time": "2025-09-26T15:11:15.557287Z",
     "start_time": "2025-09-26T15:11:15.351794Z"
    }
   },
   "source": [
    "def plot_spectral_features(sample):\n",
    "    plt.figure(figsize=(14, 5))\n",
    "    librosa.display.waveshow(data[sample] * max(sc[sample]) * 2, sr=SR, alpha=0.5)\n",
    "    plt.plot(t, sc[sample], color=\"r\")\n",
    "    plt.fill_between(t, sc[sample] - sb[sample], sc[sample] + sb[sample], color=\"orange\", alpha=0.2)\n",
    "    plt.ylabel(\"Hz\")\n",
    "    plt.ylim(0, None)\n",
    "    plt.title(f\"Spectral features ({label(sample)})\")\n",
    "    plt.legend([\"\", \"Waveform\", \"Spectral centroid\", \"Spectral bandwidth\"])\n",
    "    plt.show()\n",
    "\n",
    "interact(plot_spectral_features, sample=enum_list);"
   ],
   "outputs": [
    {
     "data": {
      "text/plain": [
       "interactive(children=(Dropdown(description='sample', options=(('Normal S1 S2', 0), ('Split S2', 1), ('S3', 2),…"
      ],
      "application/vnd.jupyter.widget-view+json": {
       "version_major": 2,
       "version_minor": 0,
       "model_id": "9103bd6cc8604b898c00d1d5221dbc3a"
      }
     },
     "metadata": {},
     "output_type": "display_data",
     "jetTransient": {
      "display_id": null
     }
    }
   ],
   "execution_count": 35
  },
  {
   "cell_type": "markdown",
   "metadata": {},
   "source": [
    "### Spectrograms\n",
    "\n",
    "We plot varius spectrograms:\n",
    "- STFT\n",
    "- Mel spectrogram\n",
    "- MFCC\n",
    "\n",
    "Notes about STFT:\n",
    "- By default, window size == n_fft == FRAME_SIZE\n",
    "- The default is a centered Hann window (zero padding)\n",
    "- Because the number of frequency bins is equal to the frame size (+1), there is a **time-frequency localization trade-off**: smaller frame size improves the temporal resolution of the STFT (i.e. the ability to discriminate impulses that are closely spaced in time) at the expense of frequency resolution (i.e. the ability to discriminate pure tones that are closely spaced in frequency)."
   ]
  },
  {
   "cell_type": "code",
   "metadata": {
    "ExecuteTime": {
     "end_time": "2025-09-26T15:11:15.614092Z",
     "start_time": "2025-09-26T15:11:15.611736Z"
    }
   },
   "source": [
    "# Attention: when used as n_fft in stft, FRAME_SIZE must be a power of 2\n",
    "#FRAME_SIZE = 2**6 # 64 samples. Corresponds to ~32ms at 2kHz\n",
    "FRAME_SIZE = 2**5 # 32 samples. Corresponds to ~16ms at 2kHz\n",
    "#HOP_LENGTH = 2**3 # 8 samples. Corresponds to ~4ms at 2kHz\n",
    "#HOP_LENGTH = 2**2 # 4 samples. Corresponds to ~2ms at 2kHz\n",
    "HOP_LENGTH = 2**1 # 2 samples. Corresponds to ~1ms at 2kHz\n",
    "N_MFCC = 13"
   ],
   "outputs": [],
   "execution_count": 36
  },
  {
   "cell_type": "code",
   "metadata": {
    "ExecuteTime": {
     "end_time": "2025-09-26T15:11:16.058433Z",
     "start_time": "2025-09-26T15:11:15.665260Z"
    }
   },
   "source": [
    "def plot_spectrograms(sample):\n",
    "    # Compute STFT\n",
    "    stft = librosa.stft(data[sample], n_fft=FRAME_SIZE, hop_length=HOP_LENGTH)\n",
    "    stft_power = np.abs(stft) ** 2\n",
    "    stft_logpower = librosa.power_to_db(stft_power)\n",
    "\n",
    "    # Compute Mel spectrogram\n",
    "    mel_spectrogram = librosa.feature.melspectrogram(y=data[sample], sr=SR, n_fft=FRAME_SIZE, hop_length=HOP_LENGTH, n_mels=N_MFCC)\n",
    "    log_mel_spectrogram = librosa.power_to_db(mel_spectrogram, ref=np.max)\n",
    "\n",
    "    # Compute MFCC\n",
    "    # Given we use the Mel spectrogram as inputs, it makes sense to use the same number of output bins in both functions.\n",
    "    mfccs = librosa.feature.mfcc(S=librosa.power_to_db(mel_spectrogram), n_mfcc=N_MFCC, sr=SR)\n",
    "\n",
    "\n",
    "    fig, (ax1, ax2, ax3, ax4) = plt.subplots(4, 1, sharex=True, figsize=(17, 10), gridspec_kw={'height_ratios': [1, 5, 5, 5]})\n",
    "    librosa.display.waveshow(data[sample], sr=SR, ax=ax1)\n",
    "    ax1.set_title(\"Waveform\", rotation=270, x=1.05, y=0.1)\n",
    "    img = librosa.display.specshow(stft_logpower,\n",
    "                             sr=SR,\n",
    "                             hop_length=HOP_LENGTH,\n",
    "                             x_axis=\"time\",\n",
    "                             y_axis=\"log\",\n",
    "                             cmap='inferno',\n",
    "                             ax=ax2)\n",
    "    #fig.colorbar(img, ax=ax2, format='%+2.0f dB')\n",
    "    ax2.set_title(\"Log-power spectrogram\", rotation=270, x=1.05, y=0)\n",
    "\n",
    "    librosa.display.specshow(log_mel_spectrogram,\n",
    "                             sr=SR,\n",
    "                             hop_length=HOP_LENGTH,\n",
    "                             x_axis=\"time\",\n",
    "                             y_axis=\"mel\",\n",
    "                             cmap='inferno',\n",
    "                             ax=ax3)\n",
    "    ax3.set_title(\"Mel spectrogram\", rotation=270, x=1.05, y=0.1)\n",
    "\n",
    "    librosa.display.specshow(mfccs,\n",
    "                             sr=SR,\n",
    "                             hop_length=HOP_LENGTH,\n",
    "                             x_axis=\"time\",\n",
    "                             y_axis=\"mel\",\n",
    "                             cmap='inferno',\n",
    "                             ax=ax4)\n",
    "    ax4.set_title(\"MFCC\", rotation=270, x=1.05, y=0.4)\n",
    "    plt.suptitle(f\"Spectrograms ({label(sample)})\")\n",
    "    plt.show()\n",
    "\n",
    "interact(plot_spectrograms, sample=enum_list);"
   ],
   "outputs": [
    {
     "data": {
      "text/plain": [
       "interactive(children=(Dropdown(description='sample', options=(('Normal S1 S2', 0), ('Split S2', 1), ('S3', 2),…"
      ],
      "application/vnd.jupyter.widget-view+json": {
       "version_major": 2,
       "version_minor": 0,
       "model_id": "5e7e107c786e484881e1aba5255b9348"
      }
     },
     "metadata": {},
     "output_type": "display_data",
     "jetTransient": {
      "display_id": null
     }
    }
   ],
   "execution_count": 37
  },
  {
   "cell_type": "markdown",
   "metadata": {},
   "source": [
    "Observations:\n",
    "- The temporal resolution (frame size) was sufficient for making the S2 split clearly visible.\n",
    "- The systolic murmur is easily identifiable despite a much larger steady noise level than in other recordings."
   ]
  },
  {
   "cell_type": "markdown",
   "metadata": {},
   "source": [
    "### Reassigned spectrogram\n",
    "\n",
    "In a reassigned spectrogram, the time and frequency bins are changing to adapt to sudden changes in the signal.\n",
    "This prevents an event to be smeared over several bins boundaries."
   ]
  },
  {
   "cell_type": "code",
   "metadata": {
    "ExecuteTime": {
     "end_time": "2025-09-26T15:11:16.680533Z",
     "start_time": "2025-09-26T15:11:16.157669Z"
    }
   },
   "source": [
    "# Compute the reassigned spectrogram\n",
    "\n",
    "def spectogram_reassigned_spectogram(sample):\n",
    "    freqs, times, mags = librosa.reassigned_spectrogram(y=data[sample], sr=SR, hop_length=HOP_LENGTH, n_fft=FRAME_SIZE, center=False)\n",
    "    mags_db = librosa.amplitude_to_db(mags, ref=np.max)\n",
    "    fig, ax = plt.subplots(nrows=2, sharex=True, sharey=True, figsize=(17, 8))\n",
    "    img = librosa.display.specshow(mags_db, x_axis=\"s\", y_axis=\"linear\", sr=SR,\n",
    "                             hop_length=HOP_LENGTH, ax=ax[0])\n",
    "    ax[0].set(title=\"Spectrogram\", xlabel=None)\n",
    "    ax[0].label_outer()\n",
    "    ax[1].scatter(times, freqs, c=mags_db, cmap=\"magma\", alpha=0.5, s=5)\n",
    "    ax[1].set_title(\"Reassigned spectrogram\")\n",
    "    ax[1].set_xlabel(\"Time (s)\")\n",
    "    ax[1].set_ylabel(\"Instantaneous frequency (Hz)\")\n",
    "    fig.colorbar(img, ax=ax, format=\"%+2.f dB\")\n",
    "    plt.suptitle(f\"{label(sample)}\")\n",
    "    plt.show()\n",
    "\n",
    "interact(spectogram_reassigned_spectogram, sample=enum_list);"
   ],
   "outputs": [
    {
     "data": {
      "text/plain": [
       "interactive(children=(Dropdown(description='sample', options=(('Normal S1 S2', 0), ('Split S2', 1), ('S3', 2),…"
      ],
      "application/vnd.jupyter.widget-view+json": {
       "version_major": 2,
       "version_minor": 0,
       "model_id": "7351997dba874773b511d42bddb5d940"
      }
     },
     "metadata": {},
     "output_type": "display_data",
     "jetTransient": {
      "display_id": null
     }
    }
   ],
   "execution_count": 38
  },
  {
   "cell_type": "markdown",
   "metadata": {},
   "source": [
    "#### Observations\n",
    "\n",
    "- Normal: We can clearly see that the reassigned spectrogram contains much finer details (frequency axis). The horizontal lines are the heart sounds with their harmonics.\n",
    "- S2 split: it is much more difficult to recognize an S2 split in the reassigned spectrogram.\n",
    "- S3: S3 sounds are visible with their lower pitch than S1 and S2.\n",
    "- S4: S4 is visible as a low pitch sound preceding S1, but the reassigned spectrogram becomes difficult to read.\n",
    "- Mid systolic click: The click is easily identifiable due to the lack of horizontal 60 Hz fundamental frequency.\n",
    "- Mid systolic murmur: The murmur is also clearly visible despite the constant background noise.\n",
    "- Mid systolic click with murmur: Can be distinguished from the systolic murmur alone by the presence of a high energetic front initiating the murmur."
   ]
  }
 ],
 "metadata": {
  "kernelspec": {
   "display_name": "Python (heart-sound-notebook)",
   "language": "python",
   "name": "heart-sound-notebook"
  },
  "language_info": {
   "codemirror_mode": {
    "name": "ipython",
    "version": 3
   },
   "file_extension": ".py",
   "mimetype": "text/x-python",
   "name": "python",
   "nbconvert_exporter": "python",
   "pygments_lexer": "ipython3",
   "version": "3.12.11"
  }
 },
 "nbformat": 4,
 "nbformat_minor": 4
}
